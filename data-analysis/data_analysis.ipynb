{
 "cells": [
  {
   "cell_type": "code",
   "execution_count": 1,
   "metadata": {},
   "outputs": [],
   "source": [
    "import sweetviz as sv\n",
    "import pandas as pd\n",
    "import numpy as np"
   ]
  },
  {
   "cell_type": "code",
   "execution_count": 2,
   "metadata": {},
   "outputs": [
    {
     "data": {
      "text/html": [
       "<div>\n",
       "<style scoped>\n",
       "    .dataframe tbody tr th:only-of-type {\n",
       "        vertical-align: middle;\n",
       "    }\n",
       "\n",
       "    .dataframe tbody tr th {\n",
       "        vertical-align: top;\n",
       "    }\n",
       "\n",
       "    .dataframe thead th {\n",
       "        text-align: right;\n",
       "    }\n",
       "</style>\n",
       "<table border=\"1\" class=\"dataframe\">\n",
       "  <thead>\n",
       "    <tr style=\"text-align: right;\">\n",
       "      <th></th>\n",
       "      <th>Method</th>\n",
       "      <th>Beam Type</th>\n",
       "      <th>L/h</th>\n",
       "      <th>k</th>\n",
       "      <th>result</th>\n",
       "    </tr>\n",
       "  </thead>\n",
       "  <tbody>\n",
       "    <tr>\n",
       "      <th>0</th>\n",
       "      <td>ASDBT</td>\n",
       "      <td>C-C FG</td>\n",
       "      <td>5</td>\n",
       "      <td>0.0</td>\n",
       "      <td>10.1099</td>\n",
       "    </tr>\n",
       "    <tr>\n",
       "      <th>1</th>\n",
       "      <td>ASDBT</td>\n",
       "      <td>C-C FG</td>\n",
       "      <td>5</td>\n",
       "      <td>0.2</td>\n",
       "      <td>9.5001</td>\n",
       "    </tr>\n",
       "    <tr>\n",
       "      <th>2</th>\n",
       "      <td>ASDBT</td>\n",
       "      <td>C-C FG</td>\n",
       "      <td>5</td>\n",
       "      <td>0.5</td>\n",
       "      <td>8.7802</td>\n",
       "    </tr>\n",
       "    <tr>\n",
       "      <th>3</th>\n",
       "      <td>ASDBT</td>\n",
       "      <td>C-C FG</td>\n",
       "      <td>5</td>\n",
       "      <td>1.0</td>\n",
       "      <td>7.9848</td>\n",
       "    </tr>\n",
       "    <tr>\n",
       "      <th>4</th>\n",
       "      <td>ASDBT</td>\n",
       "      <td>C-C FG</td>\n",
       "      <td>5</td>\n",
       "      <td>2.0</td>\n",
       "      <td>7.2082</td>\n",
       "    </tr>\n",
       "    <tr>\n",
       "      <th>...</th>\n",
       "      <td>...</td>\n",
       "      <td>...</td>\n",
       "      <td>...</td>\n",
       "      <td>...</td>\n",
       "      <td>...</td>\n",
       "    </tr>\n",
       "    <tr>\n",
       "      <th>593</th>\n",
       "      <td>TSDBT</td>\n",
       "      <td>S-S FG</td>\n",
       "      <td>20</td>\n",
       "      <td>10.0</td>\n",
       "      <td>3.7386</td>\n",
       "    </tr>\n",
       "    <tr>\n",
       "      <th>594</th>\n",
       "      <td>TSDBT</td>\n",
       "      <td>S-S FG</td>\n",
       "      <td>30</td>\n",
       "      <td>0.0</td>\n",
       "      <td>2.8460</td>\n",
       "    </tr>\n",
       "    <tr>\n",
       "      <th>595</th>\n",
       "      <td>TSDBT</td>\n",
       "      <td>S-S FG</td>\n",
       "      <td>30</td>\n",
       "      <td>0.3</td>\n",
       "      <td>2.7750</td>\n",
       "    </tr>\n",
       "    <tr>\n",
       "      <th>596</th>\n",
       "      <td>TSDBT</td>\n",
       "      <td>S-S FG</td>\n",
       "      <td>100</td>\n",
       "      <td>0.0</td>\n",
       "      <td>2.8490</td>\n",
       "    </tr>\n",
       "    <tr>\n",
       "      <th>597</th>\n",
       "      <td>TSDBT</td>\n",
       "      <td>S-S FG</td>\n",
       "      <td>100</td>\n",
       "      <td>0.3</td>\n",
       "      <td>2.7790</td>\n",
       "    </tr>\n",
       "  </tbody>\n",
       "</table>\n",
       "<p>598 rows × 5 columns</p>\n",
       "</div>"
      ],
      "text/plain": [
       "    Method Beam Type  L/h     k   result\n",
       "0    ASDBT    C-C FG    5   0.0  10.1099\n",
       "1    ASDBT    C-C FG    5   0.2   9.5001\n",
       "2    ASDBT    C-C FG    5   0.5   8.7802\n",
       "3    ASDBT    C-C FG    5   1.0   7.9848\n",
       "4    ASDBT    C-C FG    5   2.0   7.2082\n",
       "..     ...       ...  ...   ...      ...\n",
       "593  TSDBT    S-S FG   20  10.0   3.7386\n",
       "594  TSDBT    S-S FG   30   0.0   2.8460\n",
       "595  TSDBT    S-S FG   30   0.3   2.7750\n",
       "596  TSDBT    S-S FG  100   0.0   2.8490\n",
       "597  TSDBT    S-S FG  100   0.3   2.7790\n",
       "\n",
       "[598 rows x 5 columns]"
      ]
     },
     "execution_count": 2,
     "metadata": {},
     "output_type": "execute_result"
    }
   ],
   "source": [
    "df = pd.read_csv(\"../data/non-local-data.csv\", sep=',')\n",
    "# df = df.query('n == 1')\n",
    "df = df[[\"Method\", \"Beam Type\", \"L/h\", \"k\", \"result\"]]\n",
    "\n",
    "df"
   ]
  },
  {
   "cell_type": "code",
   "execution_count": 3,
   "metadata": {},
   "outputs": [
    {
     "data": {
      "text/plain": [
       "array([], dtype=int64)"
      ]
     },
     "execution_count": 3,
     "metadata": {},
     "output_type": "execute_result"
    }
   ],
   "source": [
    "# i = df.drop_duplicates(subset=[\"Method\", \"Beam Type\", \"L/h\", \"k\"])\n",
    "\n",
    "duplicateds = df.duplicated(subset=[\"Method\", \"Beam Type\", \"L/h\", \"k\"])\n",
    "duplicated_indices = np.where(duplicateds)[0]\n",
    "\n",
    "\n",
    "duplicated_indices\n"
   ]
  },
  {
   "cell_type": "code",
   "execution_count": null,
   "metadata": {},
   "outputs": [],
   "source": [
    "df = pd.read_csv(\"../data/non-local-data.csv\", sep=',')\n",
    "__df = df.iloc[duplicated_indices][[\"Case\"]]\n",
    "\n",
    "\n",
    "__df[\"Case\"].to_list()"
   ]
  },
  {
   "cell_type": "code",
   "execution_count": 3,
   "metadata": {},
   "outputs": [
    {
     "data": {
      "application/vnd.jupyter.widget-view+json": {
       "model_id": "5b450cb87e964c1e919834643f8762c1",
       "version_major": 2,
       "version_minor": 0
      },
      "text/plain": [
       "                                             |          | [  0%]   00:00 -> (? left)"
      ]
     },
     "metadata": {},
     "output_type": "display_data"
    },
    {
     "name": "stdout",
     "output_type": "stream",
     "text": [
      "Report SWEETVIZ_REPORT.html was generated! NOTEBOOK/COLAB USERS: the web browser MAY not pop up, regardless, the report IS saved in your notebook/colab files.\n"
     ]
    }
   ],
   "source": [
    "\n",
    "my_report = sv.analyze(df)\n",
    "my_report.show_html()"
   ]
  },
  {
   "cell_type": "code",
   "execution_count": null,
   "metadata": {},
   "outputs": [],
   "source": []
  }
 ],
 "metadata": {
  "kernelspec": {
   "display_name": "torch_dev",
   "language": "python",
   "name": "python3"
  },
  "language_info": {
   "codemirror_mode": {
    "name": "ipython",
    "version": 3
   },
   "file_extension": ".py",
   "mimetype": "text/x-python",
   "name": "python",
   "nbconvert_exporter": "python",
   "pygments_lexer": "ipython3",
   "version": "3.10.8"
  }
 },
 "nbformat": 4,
 "nbformat_minor": 2
}
